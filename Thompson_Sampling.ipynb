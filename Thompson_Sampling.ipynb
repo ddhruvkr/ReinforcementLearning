{
 "cells": [
  {
   "cell_type": "code",
   "execution_count": 1,
   "metadata": {
    "collapsed": true
   },
   "outputs": [],
   "source": [
    "#Optimistic initial values, it is a solution to Explore-Exploit Dilemma, i.e A/B Testing vs Human Emotion, it is\n",
    "#a bayesian approach to it, the mean and all other things are basically a sample from a distribution. With more\n",
    "#samples our distribution gets better and gives us more accurate samples.\n",
    "import numpy as np\n",
    "import math\n",
    "import matplotlib.pyplot as plt"
   ]
  },
  {
   "cell_type": "code",
   "execution_count": 51,
   "metadata": {
    "collapsed": false
   },
   "outputs": [],
   "source": [
    "class Bandit:\n",
    "    def __init__(self, m):\n",
    "        #X = N(mu, tau inv)\n",
    "        #mu = N(mo, lamba inv)\n",
    "        #mu = N(0,1)\n",
    "        #for simplicity sake m0 = 0\n",
    "        #true mean\n",
    "        self.m = m\n",
    "        #our calculated mean\n",
    "        self.mean = 0\n",
    "        self.lambda_ = 1\n",
    "        self.sum_x = 0\n",
    "        self.tau = 1\n",
    "    \n",
    "    def pullArm(self):\n",
    "        return np.random.randn() + self.m\n",
    "\n",
    "    def update(self, x):\n",
    "        self.lambda_ += 1\n",
    "        self.sum_x += x\n",
    "        self.mean = (self.mean + self.tau*self.sum_x)/(self.lambda_)\n",
    "        \n",
    "    def update01(self, x):\n",
    "        self.lambda_ += 1\n",
    "        self.sum_x += x\n",
    "        self.mean = (self.tau*self.sum_x)/(self.lambda_)\n",
    "        \n",
    "    def sample(self):\n",
    "        #mean m0, precision lambda\n",
    "        return np.random.randn() / np.sqrt(self.lambda_) + self.mean"
   ]
  },
  {
   "cell_type": "code",
   "execution_count": 52,
   "metadata": {
    "collapsed": true
   },
   "outputs": [],
   "source": [
    "def experiment(m1, m2, m3, N):\n",
    "    bandits = [Bandit(m1), Bandit(m2), Bandit(m3)]\n",
    "\n",
    "    data = np.empty(N)\n",
    "\n",
    "    for i in range(N):\n",
    "        # optimistic initial values\n",
    "        arm = np.argmax([b.sample() for b in bandits])\n",
    "        x = bandits[arm].pullArm()\n",
    "        bandits[arm].update(x)\n",
    "\n",
    "        # for the plot\n",
    "        data[i] = x\n",
    "    cumulative_average = np.cumsum(data) / (np.arange(N) + 1)\n",
    "\n",
    "    # plot moving average ctr\n",
    "    plt.plot(cumulative_average)\n",
    "    plt.plot(np.ones(N)*m1)\n",
    "    plt.plot(np.ones(N)*m2)\n",
    "    plt.plot(np.ones(N)*m3)\n",
    "    plt.xscale('log')\n",
    "    plt.show()\n",
    "    for b in bandits:\n",
    "        print(b.mean)\n",
    "    return cumulative_average"
   ]
  },
  {
   "cell_type": "code",
   "execution_count": 53,
   "metadata": {
    "collapsed": true
   },
   "outputs": [],
   "source": [
    "def experiment01(m1, m2, m3, N):\n",
    "    bandits = [Bandit(m1), Bandit(m2), Bandit(m3)]\n",
    "\n",
    "    data = np.empty(N)\n",
    "\n",
    "    for i in range(N):\n",
    "        # optimistic initial values\n",
    "        arm = np.argmax([b.sample() for b in bandits])\n",
    "        x = bandits[arm].pullArm()\n",
    "        bandits[arm].update01(x)\n",
    "\n",
    "        # for the plot\n",
    "        data[i] = x\n",
    "    cumulative_average = np.cumsum(data) / (np.arange(N) + 1)\n",
    "\n",
    "    # plot moving average ctr\n",
    "    plt.plot(cumulative_average)\n",
    "    plt.plot(np.ones(N)*m1)\n",
    "    plt.plot(np.ones(N)*m2)\n",
    "    plt.plot(np.ones(N)*m3)\n",
    "    plt.xscale('log')\n",
    "    plt.show()\n",
    "    for b in bandits:\n",
    "        print(b.mean)\n",
    "    return cumulative_average"
   ]
  },
  {
   "cell_type": "code",
   "execution_count": 55,
   "metadata": {
    "collapsed": false
   },
   "outputs": [
    {
     "data": {
      "image/png": "[encoded data removed]",
      "text/plain": [
       "<matplotlib.figure.Figure at 0x10aaaada0>"
      ]
     },
     "metadata": {},
     "output_type": "display_data"
    },
    {
     "name": "stdout",
     "output_type": "stream",
     "text": [
      "-0.19415313425999936\n",
      "0.881461683722416\n",
      "2.99571020301375\n"
     ]
    },
    {
     "data": {
      "image/png": "[encoded data removed]",
      "text/plain": [
       "<matplotlib.figure.Figure at 0x108c1aba8>"
      ]
     },
     "metadata": {},
     "output_type": "display_data"
    },
    {
     "name": "stdout",
     "output_type": "stream",
     "text": [
      "0.6628313345678903\n",
      "1.7943567359688593\n",
      "2.9896780758378734\n"
     ]
    }
   ],
   "source": [
    "if __name__ == '__main__':\n",
    "    m1 = 1.0\n",
    "    m2 = 2.0\n",
    "    m3 = 3.0\n",
    "    experiment(m1, m2, m3, 10000)\n",
    "    experiment01(m1, m2, m3, 10000)"
   ]
  },
  {
   "cell_type": "code",
   "execution_count": null,
   "metadata": {
    "collapsed": true
   },
   "outputs": [],
   "source": []
  }
 ],
 "metadata": {
  "kernelspec": {
   "display_name": "Python 3",
   "language": "python",
   "name": "python3"
  },
  "language_info": {
   "codemirror_mode": {
    "name": "ipython",
    "version": 3
   },
   "file_extension": ".py",
   "mimetype": "text/x-python",
   "name": "python",
   "nbconvert_exporter": "python",
   "pygments_lexer": "ipython3",
   "version": "3.6.0"
  }
 },
 "nbformat": 4,
 "nbformat_minor": 2
}
