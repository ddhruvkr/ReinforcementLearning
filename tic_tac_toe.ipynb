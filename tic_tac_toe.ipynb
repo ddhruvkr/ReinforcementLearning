{
 "cells": [
  {
   "cell_type": "code",
   "execution_count": null,
   "metadata": {
    "collapsed": true
   },
   "outputs": [],
   "source": [
    "def play_game(p1, p2, board, draw=False):\n",
    "    \n",
    "    currentPlayer = None\n",
    "    while board.gameNotOver():\n",
    "        if currentPlayer == p1:\n",
    "            currentPlayer = p2\n",
    "        else:\n",
    "            currentPlayer = p1\n",
    "        \n",
    "        if draw:\n",
    "            if draw == 1 and currentPlayer == p1:\n",
    "                board.drawBoard()\n",
    "            if draw == 2 and currentPlayer == p2:\n",
    "                board.drawBoard()\n",
    "            \n",
    "        currentPlayer.takeAction(board)\n",
    "        \n",
    "        state = board.getState()\n",
    "        #update the state in which the board is for both the players\n",
    "        p1.updateStateHistory(state)\n",
    "        p2.updateStateHistory(state)\n",
    "        \n",
    "        if draw:\n",
    "            board.drawBoard()\n",
    "        \n",
    "        #update the value functions\n",
    "        p1.updateEnv(board)\n",
    "        p2.updateEnv(board)"
   ]
  }
 ],
 "metadata": {
  "kernelspec": {
   "display_name": "Python 3",
   "language": "python",
   "name": "python3"
  },
  "language_info": {
   "codemirror_mode": {
    "name": "ipython",
    "version": 3
   },
   "file_extension": ".py",
   "mimetype": "text/x-python",
   "name": "python",
   "nbconvert_exporter": "python",
   "pygments_lexer": "ipython3",
   "version": "3.6.0"
  }
 },
 "nbformat": 4,
 "nbformat_minor": 2
}
