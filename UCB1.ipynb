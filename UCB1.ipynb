{
 "cells": [
  {
   "cell_type": "code",
   "execution_count": 28,
   "metadata": {
    "collapsed": false
   },
   "outputs": [],
   "source": [
    "#Optimistic initial values, it is a solution to Explore-Exploit Dilemma, i.e A/B Testing vs Human Emotion, it is\n",
    "#UpperConfidenceBound\n",
    "\n",
    "import numpy as np\n",
    "import math\n",
    "import matplotlib.pyplot as plt\n",
    "import nbimporter\n",
    "from epsilon_greedy import experiment as run_experiment_eps"
   ]
  },
  {
   "cell_type": "code",
   "execution_count": 24,
   "metadata": {
    "collapsed": true
   },
   "outputs": [],
   "source": [
    "class Bandit:\n",
    "    def __init__(self, m):\n",
    "        #true mean\n",
    "        self.m = m\n",
    "        #our calculated mean\n",
    "        self.mean = 0\n",
    "        #iterations\n",
    "        self.N = 0\n",
    "    \n",
    "    def pullArm(self):\n",
    "        return np.random.randn() + self.m\n",
    "\n",
    "    def update(self, x):\n",
    "        self.N += 1\n",
    "        self.mean = (1.0-1.0/self.N)*self.mean + (1.0/self.N)*x"
   ]
  },
  {
   "cell_type": "code",
   "execution_count": 16,
   "metadata": {
    "collapsed": false
   },
   "outputs": [],
   "source": [
    "def experiment(m1, m2, m3, N):\n",
    "    bandits = [Bandit(m1), Bandit(m2), Bandit(m3)]\n",
    "    data = np.empty(N)\n",
    "    armSelectionData = np.empty(N)\n",
    "    for i in range(N):\n",
    "            \n",
    "        arm = np.argmax([(b.mean + math.sqrt(2.0 * math.log(i+1)/(b.N+1))) for b in bandits])\n",
    "            #print (bandits[arm].mean)\n",
    "            #print (arm)\n",
    "        armSelectionData[i] = arm\n",
    "        value = bandits[arm].pullArm()\n",
    "        bandits[arm].update(value)\n",
    "        data[i] = value\n",
    "        \n",
    "    cumulative_average = np.cumsum(data) / (np.arange(N) + 1)\n",
    "    # plot moving average ctr\n",
    "    plt.plot(cumulative_average)\n",
    "    #plt.plot(armSelectionData + 1)\n",
    "    plt.plot(np.ones(N)*m1)\n",
    "    plt.plot(np.ones(N)*m2)\n",
    "    plt.plot(np.ones(N)*m3)\n",
    "    plt.xscale('log')\n",
    "    plt.show()\n",
    "    #print(armSelectionData + 1)\n",
    "    for b in bandits:\n",
    "        print(b.mean)\n",
    "\n",
    "    return cumulative_average"
   ]
  },
  {
   "cell_type": "code",
   "execution_count": 18,
   "metadata": {
    "collapsed": false
   },
   "outputs": [
    {
     "data": {
      "image/png": "[encoded data removed]",
      "text/plain": [
       "<matplotlib.figure.Figure at 0x10b937ef0>"
      ]
     },
     "metadata": {},
     "output_type": "display_data"
    },
    {
     "name": "stdout",
     "output_type": "stream",
     "text": [
      "1.3205835665435044\n",
      "2.115289972066407\n",
      "2.9946426133310275\n"
     ]
    }
   ],
   "source": [
    "if __name__ == '__main__':\n",
    "    result = experiment(1.0, 2.0, 3.0, 10000)"
   ]
  },
  {
   "cell_type": "code",
   "execution_count": 29,
   "metadata": {
    "collapsed": false
   },
   "outputs": [
    {
     "data": {
      "image/png": "[encoded data removed]",
      "text/plain": [
       "<matplotlib.figure.Figure at 0x10c712198>"
      ]
     },
     "metadata": {},
     "output_type": "display_data"
    },
    {
     "name": "stdout",
     "output_type": "stream",
     "text": [
      "0.9781052498074765\n",
      "2.0097230883469854\n",
      "3.0010889976564834\n"
     ]
    }
   ],
   "source": [
    "    c_1 = run_experiment_eps(1.0, 2.0, 3.0, 0.1, 100000)"
   ]
  },
  {
   "cell_type": "code",
   "execution_count": 38,
   "metadata": {
    "collapsed": false
   },
   "outputs": [
    {
     "name": "stdout",
     "output_type": "stream",
     "text": [
      "-0.45433003164908703\n"
     ]
    }
   ],
   "source": [
    "#we can see above how UCB outperforms epsilon greedy\n",
    "print(np.random.randn())"
   ]
  },
  {
   "cell_type": "code",
   "execution_count": null,
   "metadata": {
    "collapsed": true
   },
   "outputs": [],
   "source": []
  },
  {
   "cell_type": "code",
   "execution_count": null,
   "metadata": {
    "collapsed": true
   },
   "outputs": [],
   "source": []
  }
 ],
 "metadata": {
  "kernelspec": {
   "display_name": "Python 3",
   "language": "python",
   "name": "python3"
  },
  "language_info": {
   "codemirror_mode": {
    "name": "ipython",
    "version": 3
   },
   "file_extension": ".py",
   "mimetype": "text/x-python",
   "name": "python",
   "nbconvert_exporter": "python",
   "pygments_lexer": "ipython3",
   "version": "3.6.0"
  }
 },
 "nbformat": 4,
 "nbformat_minor": 2
}
