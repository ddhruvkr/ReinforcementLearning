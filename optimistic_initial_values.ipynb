{
 "cells": [
  {
   "cell_type": "code",
   "execution_count": 21,
   "metadata": {
    "collapsed": false
   },
   "outputs": [],
   "source": [
    "#Optimistic initial values, it is a solution to Explore-Exploit Dilemma, i.e A/B Testing vs Human Emotion, it is\n",
    "#basically GO GREEDY, take a very high initial guessm (which we know is very high)\n",
    "#this outperforms epsilon_greedy\n",
    "'''\n",
    "pseudo code\n",
    "pull current best arm\n",
    "'''\n",
    "import numpy as np\n",
    "import matplotlib.pyplot as plt"
   ]
  },
  {
   "cell_type": "code",
   "execution_count": 13,
   "metadata": {
    "collapsed": true
   },
   "outputs": [],
   "source": [
    "class Bandit:\n",
    "    def __init__(self, m):\n",
    "        #true mean\n",
    "        self.m = m\n",
    "        #our calculated mean\n",
    "        self.mean = 10\n",
    "        #iterations\n",
    "        self.N = 0\n",
    "    \n",
    "    def pullArm(self):\n",
    "        return np.random.randn() + self.m\n",
    "\n",
    "    def update(self, x):\n",
    "        self.N += 1\n",
    "        self.mean = (1.0-1.0/self.N)*self.mean + (1.0/self.N)*x"
   ]
  },
  {
   "cell_type": "code",
   "execution_count": 8,
   "metadata": {
    "collapsed": true
   },
   "outputs": [],
   "source": [
    "def experiment(m1, m2, m3, N):\n",
    "    bandits = [Bandit(m1), Bandit(m2), Bandit(m3)]\n",
    "    data = np.empty(N)\n",
    "    armSelectionData = np.empty(N)\n",
    "    for i in range(N):\n",
    "        arm = np.argmax([b.mean for b in bandits])\n",
    "            #print (bandits[arm].mean)\n",
    "            #print (arm)\n",
    "        armSelectionData[i] = arm\n",
    "        value = bandits[arm].pullArm()\n",
    "        bandits[arm].update(value)\n",
    "        data[i] = value\n",
    "        \n",
    "    cumulative_average = np.cumsum(data) / (np.arange(N) + 1)\n",
    "    # plot moving average ctr\n",
    "    plt.plot(cumulative_average)\n",
    "    #plt.plot(armSelectionData + 1)\n",
    "    plt.plot(np.ones(N)*m1)\n",
    "    plt.plot(np.ones(N)*m2)\n",
    "    plt.plot(np.ones(N)*m3)\n",
    "    #plt.xscale('log')\n",
    "    plt.show()\n",
    "    #print(armSelectionData + 1)\n",
    "    for b in bandits:\n",
    "        print(b.mean)\n",
    "\n",
    "    return cumulative_average"
   ]
  },
  {
   "cell_type": "code",
   "execution_count": 9,
   "metadata": {
    "collapsed": false
   },
   "outputs": [
    {
     "data": {
      "image/png": "[encoded data removed]",
      "text/plain": [
       "<matplotlib.figure.Figure at 0x1135bb128>"
      ]
     },
     "metadata": {},
     "output_type": "display_data"
    },
    {
     "name": "stdout",
     "output_type": "stream",
     "text": [
      "2.28663575609866\n",
      "1.4294599560072978\n",
      "3.003421300847113\n"
     ]
    }
   ],
   "source": [
    "if __name__ == '__main__':\n",
    "    result = experiment(1.0, 2.0, 3.0, 10000)"
   ]
  },
  {
   "cell_type": "code",
   "execution_count": null,
   "metadata": {
    "collapsed": true
   },
   "outputs": [],
   "source": []
  }
 ],
 "metadata": {
  "kernelspec": {
   "display_name": "Python 3",
   "language": "python",
   "name": "python3"
  },
  "language_info": {
   "codemirror_mode": {
    "name": "ipython",
    "version": 3
   },
   "file_extension": ".py",
   "mimetype": "text/x-python",
   "name": "python",
   "nbconvert_exporter": "python",
   "pygments_lexer": "ipython3",
   "version": "3.6.0"
  }
 },
 "nbformat": 4,
 "nbformat_minor": 2
}
